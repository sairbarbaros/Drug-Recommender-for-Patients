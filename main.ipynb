{
 "cells": [
  {
   "attachments": {},
   "cell_type": "markdown",
   "metadata": {},
   "source": [
    "## 1.IMPORTING LIBRARIES\n",
    "\n",
    "    *Numpy for linear algebra and data manipulation.\n",
    "    *Matplotlib for visualising data.\n",
    "    *Pandas for loading and analyzing data.\n",
    "    *Sklearn for normalizing the data and creating the model."
   ]
  },
  {
   "cell_type": "code",
   "execution_count": 1,
   "metadata": {},
   "outputs": [],
   "source": [
    "import numpy as np\n",
    "import sklearn\n",
    "import pandas as pd\n",
    "import matplotlib.pyplot as plt"
   ]
  },
  {
   "attachments": {},
   "cell_type": "markdown",
   "metadata": {},
   "source": [
    "## 2.LOADING AND ANALYZING THE DATA\n",
    "\n",
    "    *Loading the drug_dataset.csv dataset.\n",
    "    *The dataset is composed of attributes of patients and different medications.\n",
    "    *Analyzing the data using pandas."
   ]
  },
  {
   "cell_type": "code",
   "execution_count": 2,
   "metadata": {},
   "outputs": [
    {
     "data": {
      "text/html": [
       "<div>\n",
       "<style scoped>\n",
       "    .dataframe tbody tr th:only-of-type {\n",
       "        vertical-align: middle;\n",
       "    }\n",
       "\n",
       "    .dataframe tbody tr th {\n",
       "        vertical-align: top;\n",
       "    }\n",
       "\n",
       "    .dataframe thead th {\n",
       "        text-align: right;\n",
       "    }\n",
       "</style>\n",
       "<table border=\"1\" class=\"dataframe\">\n",
       "  <thead>\n",
       "    <tr style=\"text-align: right;\">\n",
       "      <th></th>\n",
       "      <th>Age</th>\n",
       "      <th>Sex</th>\n",
       "      <th>BP</th>\n",
       "      <th>Cholesterol</th>\n",
       "      <th>Na_to_K</th>\n",
       "      <th>Drug</th>\n",
       "    </tr>\n",
       "  </thead>\n",
       "  <tbody>\n",
       "    <tr>\n",
       "      <th>0</th>\n",
       "      <td>23</td>\n",
       "      <td>F</td>\n",
       "      <td>HIGH</td>\n",
       "      <td>HIGH</td>\n",
       "      <td>25.355</td>\n",
       "      <td>drugY</td>\n",
       "    </tr>\n",
       "    <tr>\n",
       "      <th>1</th>\n",
       "      <td>47</td>\n",
       "      <td>M</td>\n",
       "      <td>LOW</td>\n",
       "      <td>HIGH</td>\n",
       "      <td>13.093</td>\n",
       "      <td>drugC</td>\n",
       "    </tr>\n",
       "    <tr>\n",
       "      <th>2</th>\n",
       "      <td>47</td>\n",
       "      <td>M</td>\n",
       "      <td>LOW</td>\n",
       "      <td>HIGH</td>\n",
       "      <td>10.114</td>\n",
       "      <td>drugC</td>\n",
       "    </tr>\n",
       "    <tr>\n",
       "      <th>3</th>\n",
       "      <td>28</td>\n",
       "      <td>F</td>\n",
       "      <td>NORMAL</td>\n",
       "      <td>HIGH</td>\n",
       "      <td>7.798</td>\n",
       "      <td>drugX</td>\n",
       "    </tr>\n",
       "    <tr>\n",
       "      <th>4</th>\n",
       "      <td>61</td>\n",
       "      <td>F</td>\n",
       "      <td>LOW</td>\n",
       "      <td>HIGH</td>\n",
       "      <td>18.043</td>\n",
       "      <td>drugY</td>\n",
       "    </tr>\n",
       "  </tbody>\n",
       "</table>\n",
       "</div>"
      ],
      "text/plain": [
       "   Age Sex      BP Cholesterol  Na_to_K   Drug\n",
       "0   23   F    HIGH        HIGH   25.355  drugY\n",
       "1   47   M     LOW        HIGH   13.093  drugC\n",
       "2   47   M     LOW        HIGH   10.114  drugC\n",
       "3   28   F  NORMAL        HIGH    7.798  drugX\n",
       "4   61   F     LOW        HIGH   18.043  drugY"
      ]
     },
     "execution_count": 2,
     "metadata": {},
     "output_type": "execute_result"
    }
   ],
   "source": [
    "df = pd.read_csv(\"drug_dataset.csv\")\n",
    "\n",
    "df.head()"
   ]
  },
  {
   "cell_type": "code",
   "execution_count": 6,
   "metadata": {},
   "outputs": [
    {
     "name": "stdout",
     "output_type": "stream",
     "text": [
      "The dataset consists of 200 patients and 6 features.\n"
     ]
    }
   ],
   "source": [
    "print(\"The dataset consists of {} patients and {} features.\".format(df.shape[0], df.shape[1]))"
   ]
  },
  {
   "attachments": {},
   "cell_type": "markdown",
   "metadata": {},
   "source": [
    "Let's create independent and dependent variable matrices."
   ]
  },
  {
   "cell_type": "code",
   "execution_count": 52,
   "metadata": {},
   "outputs": [
    {
     "name": "stdout",
     "output_type": "stream",
     "text": [
      "Independent variable matrix:\n",
      "[[23 'F' 'HIGH' 'HIGH' 25.355]\n",
      " [47 'M' 'LOW' 'HIGH' 13.093]\n",
      " [47 'M' 'LOW' 'HIGH' 10.114]]\n",
      "\n",
      " Dependent variable matrix:\n",
      "['drugY' 'drugC' 'drugC']\n"
     ]
    }
   ],
   "source": [
    "X = df[[\"Age\", \"Sex\", \"BP\", \"Cholesterol\", \"Na_to_K\"]].values\n",
    "y = df[\"Drug\"].values\n",
    "\n",
    "print(\"Independent variable matrix:\\n{}\\n\\n Dependent variable matrix:\\n{}\".format(X[:3], y[:3]))"
   ]
  },
  {
   "attachments": {},
   "cell_type": "markdown",
   "metadata": {},
   "source": [
    "Since there are non-numerical values, we must convert them before training the model with them."
   ]
  },
  {
   "cell_type": "code",
   "execution_count": 53,
   "metadata": {},
   "outputs": [
    {
     "name": "stdout",
     "output_type": "stream",
     "text": [
      "Non-numerical columns: ['M' 'LOW' 'HIGH']\n",
      "\n",
      "Transformed dataset:\n",
      "[[23 0 0 0 25.355]\n",
      " [47 1 1 0 13.093]\n",
      " [47 1 1 0 10.114]]\n"
     ]
    }
   ],
   "source": [
    "print(\"Non-numerical columns: {}\\n\".format(X[1][1:4]))\n",
    "\n",
    "#For second column:\n",
    "converter = sklearn.preprocessing.LabelEncoder()\n",
    "converter.fit(['F', 'M'])\n",
    "X[:,1] = converter.transform(X[:,1])\n",
    "\n",
    "converter = sklearn.preprocessing.LabelEncoder()\n",
    "converter.fit([\"LOW\", \"NORMAL\", \"HIGH\"])\n",
    "X[:,2] = converter.transform(X[:,2])\n",
    "\n",
    "converter = sklearn.preprocessing.LabelEncoder()\n",
    "converter.fit([\"NORMAL\", \"HIGH\"])\n",
    "X[:,3] = converter.transform(X[:,3])\n",
    "\n",
    "print(\"Transformed dataset:\\n{}\".format(X[:3]))"
   ]
  },
  {
   "attachments": {},
   "cell_type": "markdown",
   "metadata": {},
   "source": [
    "## 3.PREPARING AND SPLITTING DATA\n",
    "\n",
    "    *Converting type of the data\n",
    "    *Normalizing the data\n",
    "    *Splitting train and test sets."
   ]
  },
  {
   "cell_type": "code",
   "execution_count": 60,
   "metadata": {},
   "outputs": [
    {
     "name": "stdout",
     "output_type": "stream",
     "text": [
      "Training data consists of 150 patients having 5 features.\n",
      "Test data consists of 50 patients having 5 features.\n"
     ]
    }
   ],
   "source": [
    "training_X, test_X, training_y, test_y = sklearn.model_selection.train_test_split(X, y, test_size=0.25)\n",
    "\n",
    "print(\"Training data consists of {} patients having {} features.\".format(training_X.shape[0], training_X.shape[1]))\n",
    "print(\"Test data consists of {} patients having 5 features.\".format(test_X.shape[0]))"
   ]
  },
  {
   "attachments": {},
   "cell_type": "markdown",
   "metadata": {},
   "source": [
    "## 4.CREATING and EVALUATING the MODEL\n",
    "\n",
    "    *Creating the model using sklearn.\n",
    "    *Decision tree algorithm is used for picking the most appropriate features and mapping them to the drugs.\n",
    "    *Evaluating with accuracy metric. Accuracy is 100%.\n",
    "    *Plotting the tree."
   ]
  },
  {
   "cell_type": "code",
   "execution_count": 71,
   "metadata": {},
   "outputs": [
    {
     "name": "stdout",
     "output_type": "stream",
     "text": [
      "Real labels: ['drugY' 'drugY' 'drugA' 'drugY' 'drugX']\n",
      "Predicted labels: ['drugY' 'drugY' 'drugA' 'drugY' 'drugX']\n"
     ]
    }
   ],
   "source": [
    "model = sklearn.tree.DecisionTreeClassifier(criterion=\"entropy\", max_depth=4)\n",
    "model.fit(training_X, training_y)\n",
    "\n",
    "predictions = model.predict(test_X)\n",
    "\n",
    "#Let's see if our predictions are true:\n",
    "print(\"Real labels: {}\\nPredicted labels: {}\".format(test_y[:5], predictions[:5]))"
   ]
  },
  {
   "attachments": {},
   "cell_type": "markdown",
   "metadata": {},
   "source": [
    "The first five predictions turn out to be true. We can find its accuracy with a line of code."
   ]
  },
  {
   "cell_type": "code",
   "execution_count": 75,
   "metadata": {},
   "outputs": [
    {
     "name": "stdout",
     "output_type": "stream",
     "text": [
      "Accuracy of our model: 1.00\n"
     ]
    }
   ],
   "source": [
    "from sklearn import metrics\n",
    "print(\"Accuracy of our model: %.2f\" %metrics.accuracy_score(test_y, predictions))"
   ]
  },
  {
   "attachments": {},
   "cell_type": "markdown",
   "metadata": {},
   "source": [
    "Finally, let's take a look how our decision tree looks like."
   ]
  },
  {
   "cell_type": "code",
   "execution_count": 81,
   "metadata": {},
   "outputs": [
    {
     "data": {
      "image/png": "[encoded data removed]",
      "text/plain": [
       "<Figure size 640x480 with 1 Axes>"
      ]
     },
     "metadata": {},
     "output_type": "display_data"
    }
   ],
   "source": [
    "sklearn.tree.plot_tree(model)\n",
    "plt.show()"
   ]
  },
  {
   "attachments": {},
   "cell_type": "markdown",
   "metadata": {},
   "source": [
    "## 5.CONCLUSIONS\n",
    "\n",
    "    *Since all of the predicted labels match the true labels, this model is very accurate.\n",
    "    *In problems that we can build a decision tree, this algorithm performs well.\n",
    "    *As we can see entropy converges to 0 when the tree is finalized. Leow entropy means less impurity and more predictionability.  "
   ]
  }
 ],
 "metadata": {
  "kernelspec": {
   "display_name": "levi",
   "language": "python",
   "name": "python3"
  },
  "language_info": {
   "codemirror_mode": {
    "name": "ipython",
    "version": 3
   },
   "file_extension": ".py",
   "mimetype": "text/x-python",
   "name": "python",
   "nbconvert_exporter": "python",
   "pygments_lexer": "ipython3",
   "version": "3.9.16"
  },
  "orig_nbformat": 4,
  "vscode": {
   "interpreter": {
    "hash": "cc74c03df4673741e93e3f8bee9b1f1dc09b6f8571c8684eac161cc53b688e0f"
   }
  }
 },
 "nbformat": 4,
 "nbformat_minor": 2
}
